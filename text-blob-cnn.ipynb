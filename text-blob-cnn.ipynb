{
 "cells": [
  {
   "cell_type": "markdown",
   "metadata": {},
   "source": [
    "# KELOMPOK 2\n",
    "\n",
    "HASAN ADE MUHARNOV\n",
    "HASBI YUDDIN MATONDANG\n",
    "HELEN K SINURAT\n",
    "YUNDA ANDRIYANI\n",
    "HILDA AYU TAMARA"
   ]
  },
  {
   "cell_type": "code",
   "execution_count": 1,
   "metadata": {},
   "outputs": [],
   "source": [
    "import tweepy\n",
    "import pandas as pd\n",
    "import numpy as np  \n",
    "from tweepy import Cursor\n",
    "import csv\n",
    "from textblob import TextBlob\n",
    "import re\n",
    "from IPython.display import display\n",
    "import matplotlib.pyplot as plt"
   ]
  },
  {
   "cell_type": "code",
   "execution_count": 2,
   "metadata": {},
   "outputs": [],
   "source": [
    "consumer_key = '0oQfX6LQfSR2Sj5YpwOlTOZsW'\n",
    "consumer_secret = 'HfUxGwaveQoHr6NeBq4ViZeX7xKZOBBDbBeD8yB36VZbWsf5Jm'\n",
    "access_token = '905245651-vi4SrkwLgBGgTqYyWnyPTy71w6GDYOuSf9sOAPW5'\n",
    "access_secret = 'JzL5RzFcmi3ciad7BfDYagGhXuA3FUF6GMTQKyI7azlJS'\n",
    "\n",
    "def connect_to_twitter_OAuth(): # a function\n",
    "    auth = tweepy.OAuthHandler(consumer_key, consumer_secret)\n",
    "    auth.set_access_token(access_token, access_secret)\n",
    "    api = tweepy.API(auth) # melakukan koneksi dengan menggunakan variabel api\n",
    "    return api\n",
    "\n",
    "api = connect_to_twitter_OAuth()"
   ]
  },
  {
   "cell_type": "code",
   "execution_count": 3,
   "metadata": {},
   "outputs": [],
   "source": [
    "csvFile = open('tweet-cnn.csv', 'a') # 'a' for append utk menambahkan, bisa juga 'w' for write (file lama akan ditimpa)\n",
    "csvWriter = csv.writer(csvFile)\n",
    "\n",
    "for tweet in Cursor(api.user_timeline, screen_name='cnn').items(1000):\n",
    "    csvWriter.writerow([tweet.created_at, tweet.text.encode('utf-8')])"
   ]
  },
  {
   "cell_type": "code",
   "execution_count": 33,
   "metadata": {},
   "outputs": [],
   "source": [
    "#Fungsi untuk melakukan sentimen analis dengan library TextBlob\n",
    "def analize_sentiment(tweet):\n",
    "    analysis = TextBlob(tweet)\n",
    "    analysis = analysis.correct()\n",
    "    if analysis.sentiment.polarity > 0:\n",
    "        return 1\n",
    "    elif analysis.sentiment.polarity == 0:\n",
    "        return 0\n",
    "    else:\n",
    "        return -1"
   ]
  },
  {
   "cell_type": "code",
   "execution_count": 34,
   "metadata": {},
   "outputs": [],
   "source": [
    "#Fungsi untuk membuat Diagram Pie\n",
    "def showPieChart(positive,neutral,negative):\n",
    "    labels = 'Positive', 'Neutral', 'Negative'\n",
    "    color = ['lightgreen','lightgray','orange']\n",
    "    value = [positive, neutral, negative]\n",
    "    explode = (0.1, 0.1, 0.1)\n",
    "    plt.pie(value,autopct='%1.1f%%',colors=color, labels=labels , shadow= True,explode = explode , startangle=140)\n",
    "    plt.show()"
   ]
  },
  {
   "cell_type": "code",
   "execution_count": 35,
   "metadata": {},
   "outputs": [
    {
     "data": {
      "text/html": [
       "<div>\n",
       "<style scoped>\n",
       "    .dataframe tbody tr th:only-of-type {\n",
       "        vertical-align: middle;\n",
       "    }\n",
       "\n",
       "    .dataframe tbody tr th {\n",
       "        vertical-align: top;\n",
       "    }\n",
       "\n",
       "    .dataframe thead th {\n",
       "        text-align: right;\n",
       "    }\n",
       "</style>\n",
       "<table border=\"1\" class=\"dataframe\">\n",
       "  <thead>\n",
       "    <tr style=\"text-align: right;\">\n",
       "      <th></th>\n",
       "      <th>created_at</th>\n",
       "      <th>tweet</th>\n",
       "    </tr>\n",
       "  </thead>\n",
       "  <tbody>\n",
       "    <tr>\n",
       "      <th>0</th>\n",
       "      <td>2019-08-26 21:21:03</td>\n",
       "      <td>b'Men and women with the highest levels of opt...</td>\n",
       "    </tr>\n",
       "    <tr>\n",
       "      <th>1</th>\n",
       "      <td>2019-08-26 21:19:31</td>\n",
       "      <td>b'GOP presidential candidate Joe Walsh says he...</td>\n",
       "    </tr>\n",
       "    <tr>\n",
       "      <th>2</th>\n",
       "      <td>2019-08-26 21:14:51</td>\n",
       "      <td>b'Tropical Storm Dorian has intensified in the...</td>\n",
       "    </tr>\n",
       "    <tr>\n",
       "      <th>3</th>\n",
       "      <td>2019-08-26 21:11:19</td>\n",
       "      <td>b'Ashleigh Barty and Karolina Pliskova survive...</td>\n",
       "    </tr>\n",
       "    <tr>\n",
       "      <th>4</th>\n",
       "      <td>2019-08-26 21:11:07</td>\n",
       "      <td>b'California Attorney General Xavier Becerra a...</td>\n",
       "    </tr>\n",
       "  </tbody>\n",
       "</table>\n",
       "</div>"
      ],
      "text/plain": [
       "            created_at                                              tweet\n",
       "0  2019-08-26 21:21:03  b'Men and women with the highest levels of opt...\n",
       "1  2019-08-26 21:19:31  b'GOP presidential candidate Joe Walsh says he...\n",
       "2  2019-08-26 21:14:51  b'Tropical Storm Dorian has intensified in the...\n",
       "3  2019-08-26 21:11:19  b'Ashleigh Barty and Karolina Pliskova survive...\n",
       "4  2019-08-26 21:11:07  b'California Attorney General Xavier Becerra a..."
      ]
     },
     "execution_count": 35,
     "metadata": {},
     "output_type": "execute_result"
    }
   ],
   "source": [
    "df = pd.read_csv(\"tweet-cnn.csv\", header=None)\n",
    "df.columns = ['created_at', 'tweet']\n",
    "df.head()"
   ]
  },
  {
   "cell_type": "code",
   "execution_count": 36,
   "metadata": {},
   "outputs": [],
   "source": [
    "df.drop_duplicates(subset=\"tweet\", keep = False, inplace = True)"
   ]
  },
  {
   "cell_type": "code",
   "execution_count": 37,
   "metadata": {},
   "outputs": [
    {
     "data": {
      "text/plain": [
       "0    b'Men and women with the highest levels of opt...\n",
       "1    b'GOP presidential candidate Joe Walsh says he...\n",
       "2    b'Tropical Storm Dorian has intensified in the...\n",
       "3    b'Ashleigh Barty and Karolina Pliskova survive...\n",
       "4    b'California Attorney General Xavier Becerra a...\n",
       "Name: tweet, dtype: object"
      ]
     },
     "execution_count": 37,
     "metadata": {},
     "output_type": "execute_result"
    }
   ],
   "source": [
    "df['tweet'].head()"
   ]
  },
  {
   "cell_type": "code",
   "execution_count": 38,
   "metadata": {},
   "outputs": [],
   "source": [
    "rm_b = [] #menyimpa tweet yg telah dihapus karakter 'b''\n",
    "for tweet in df[\"tweet\"]:\n",
    "    rm_b.append(tweet[2:len(df[\"tweet\"])-1])"
   ]
  },
  {
   "cell_type": "code",
   "execution_count": 39,
   "metadata": {},
   "outputs": [
    {
     "data": {
      "text/plain": [
       "0    Men and women with the highest levels of optim...\n",
       "1    GOP presidential candidate Joe Walsh says he r...\n",
       "2    Tropical Storm Dorian has intensified in the A...\n",
       "3    Ashleigh Barty and Karolina Pliskova survived ...\n",
       "4    California Attorney General Xavier Becerra and...\n",
       "Name: tweet, dtype: object"
      ]
     },
     "execution_count": 39,
     "metadata": {},
     "output_type": "execute_result"
    }
   ],
   "source": [
    "df['tweet']=rm_b\n",
    "df['tweet'].head()"
   ]
  },
  {
   "cell_type": "code",
   "execution_count": 40,
   "metadata": {},
   "outputs": [],
   "source": [
    "import re\n",
    "import preprocessor as p\n",
    "#from string import punctuation\n",
    "\n",
    "rm_regex = []\n",
    "i=0\n",
    "for tweet in df['tweet']:\n",
    "    tweet = re.sub(r'((\\\\x[a-z0-9]{1,}){1,})', '', tweet)\n",
    "    tweet = re.sub(r\"http\\S+\", '', tweet)\n",
    "    tweet = re.sub('(@[A-Za-z0-9]+)|([^0-9A-Za-z \\t])|(\\w+:\\/\\/\\S+)','', tweet)\n",
    "    tweet = p.clean(tweet)\n",
    "    rm_regex.insert(i, tweet)\n",
    "    i+=1"
   ]
  },
  {
   "cell_type": "code",
   "execution_count": 41,
   "metadata": {},
   "outputs": [
    {
     "data": {
      "text/plain": [
       "0    Men and women with the highest levels of optim...\n",
       "1    GOP presidential candidate Joe Walsh says he r...\n",
       "2    Tropical Storm Dorian has intensified in the A...\n",
       "3    Ashleigh Barty and Karolina Pliskova survived ...\n",
       "4    California Attorney General Xavier Becerra and...\n",
       "Name: tweet, dtype: object"
      ]
     },
     "execution_count": 41,
     "metadata": {},
     "output_type": "execute_result"
    }
   ],
   "source": [
    "df['tweet']=rm_regex\n",
    "df['tweet'].head()"
   ]
  },
  {
   "cell_type": "code",
   "execution_count": 42,
   "metadata": {},
   "outputs": [],
   "source": [
    "df['tweet'] = [word.lower() for word in df['tweet']]"
   ]
  },
  {
   "cell_type": "code",
   "execution_count": null,
   "metadata": {},
   "outputs": [],
   "source": [
    "df['SA'] = np.array([analize_sentiment(tweet) for tweet in df['tweet']])"
   ]
  },
  {
   "cell_type": "code",
   "execution_count": 45,
   "metadata": {},
   "outputs": [
    {
     "data": {
      "text/html": [
       "<div>\n",
       "<style scoped>\n",
       "    .dataframe tbody tr th:only-of-type {\n",
       "        vertical-align: middle;\n",
       "    }\n",
       "\n",
       "    .dataframe tbody tr th {\n",
       "        vertical-align: top;\n",
       "    }\n",
       "\n",
       "    .dataframe thead th {\n",
       "        text-align: right;\n",
       "    }\n",
       "</style>\n",
       "<table border=\"1\" class=\"dataframe\">\n",
       "  <thead>\n",
       "    <tr style=\"text-align: right;\">\n",
       "      <th></th>\n",
       "      <th>created_at</th>\n",
       "      <th>tweet</th>\n",
       "      <th>SA</th>\n",
       "    </tr>\n",
       "  </thead>\n",
       "  <tbody>\n",
       "    <tr>\n",
       "      <th>0</th>\n",
       "      <td>2019-08-26 21:21:03</td>\n",
       "      <td>men and women with the highest levels of optim...</td>\n",
       "      <td>-1</td>\n",
       "    </tr>\n",
       "    <tr>\n",
       "      <th>1</th>\n",
       "      <td>2019-08-26 21:19:31</td>\n",
       "      <td>gop presidential candidate joe walsh says he r...</td>\n",
       "      <td>-1</td>\n",
       "    </tr>\n",
       "    <tr>\n",
       "      <th>2</th>\n",
       "      <td>2019-08-26 21:14:51</td>\n",
       "      <td>tropical storm dorian has intensified in the a...</td>\n",
       "      <td>0</td>\n",
       "    </tr>\n",
       "    <tr>\n",
       "      <th>3</th>\n",
       "      <td>2019-08-26 21:11:19</td>\n",
       "      <td>ashleigh barty and karolina pliskova survived ...</td>\n",
       "      <td>0</td>\n",
       "    </tr>\n",
       "    <tr>\n",
       "      <th>4</th>\n",
       "      <td>2019-08-26 21:11:07</td>\n",
       "      <td>california attorney general xavier becerra and...</td>\n",
       "      <td>-1</td>\n",
       "    </tr>\n",
       "  </tbody>\n",
       "</table>\n",
       "</div>"
      ],
      "text/plain": [
       "            created_at                                              tweet  SA\n",
       "0  2019-08-26 21:21:03  men and women with the highest levels of optim...  -1\n",
       "1  2019-08-26 21:19:31  gop presidential candidate joe walsh says he r...  -1\n",
       "2  2019-08-26 21:14:51  tropical storm dorian has intensified in the a...   0\n",
       "3  2019-08-26 21:11:19  ashleigh barty and karolina pliskova survived ...   0\n",
       "4  2019-08-26 21:11:07  california attorney general xavier becerra and...  -1"
      ]
     },
     "execution_count": 45,
     "metadata": {},
     "output_type": "execute_result"
    }
   ],
   "source": [
    "df.head()"
   ]
  },
  {
   "cell_type": "code",
   "execution_count": 46,
   "metadata": {},
   "outputs": [],
   "source": [
    "df = df.replace(\"\",np.nan)\n",
    "df.dropna(subset = [\"tweet\"], axis=0, inplace=True) #axis=0 berarti menghapus row, axis=1 menghapus column"
   ]
  },
  {
   "cell_type": "code",
   "execution_count": 47,
   "metadata": {},
   "outputs": [
    {
     "data": {
      "text/html": [
       "<div>\n",
       "<style scoped>\n",
       "    .dataframe tbody tr th:only-of-type {\n",
       "        vertical-align: middle;\n",
       "    }\n",
       "\n",
       "    .dataframe tbody tr th {\n",
       "        vertical-align: top;\n",
       "    }\n",
       "\n",
       "    .dataframe thead th {\n",
       "        text-align: right;\n",
       "    }\n",
       "</style>\n",
       "<table border=\"1\" class=\"dataframe\">\n",
       "  <thead>\n",
       "    <tr style=\"text-align: right;\">\n",
       "      <th></th>\n",
       "      <th>created_at</th>\n",
       "      <th>tweet</th>\n",
       "      <th>SA</th>\n",
       "    </tr>\n",
       "  </thead>\n",
       "  <tbody>\n",
       "    <tr>\n",
       "      <th>0</th>\n",
       "      <td>2019-08-26 21:21:03</td>\n",
       "      <td>men and women with the highest levels of optim...</td>\n",
       "      <td>-1</td>\n",
       "    </tr>\n",
       "    <tr>\n",
       "      <th>1</th>\n",
       "      <td>2019-08-26 21:19:31</td>\n",
       "      <td>gop presidential candidate joe walsh says he r...</td>\n",
       "      <td>-1</td>\n",
       "    </tr>\n",
       "    <tr>\n",
       "      <th>2</th>\n",
       "      <td>2019-08-26 21:14:51</td>\n",
       "      <td>tropical storm dorian has intensified in the a...</td>\n",
       "      <td>0</td>\n",
       "    </tr>\n",
       "    <tr>\n",
       "      <th>3</th>\n",
       "      <td>2019-08-26 21:11:19</td>\n",
       "      <td>ashleigh barty and karolina pliskova survived ...</td>\n",
       "      <td>0</td>\n",
       "    </tr>\n",
       "    <tr>\n",
       "      <th>4</th>\n",
       "      <td>2019-08-26 21:11:07</td>\n",
       "      <td>california attorney general xavier becerra and...</td>\n",
       "      <td>-1</td>\n",
       "    </tr>\n",
       "  </tbody>\n",
       "</table>\n",
       "</div>"
      ],
      "text/plain": [
       "            created_at                                              tweet  SA\n",
       "0  2019-08-26 21:21:03  men and women with the highest levels of optim...  -1\n",
       "1  2019-08-26 21:19:31  gop presidential candidate joe walsh says he r...  -1\n",
       "2  2019-08-26 21:14:51  tropical storm dorian has intensified in the a...   0\n",
       "3  2019-08-26 21:11:19  ashleigh barty and karolina pliskova survived ...   0\n",
       "4  2019-08-26 21:11:07  california attorney general xavier becerra and...  -1"
      ]
     },
     "execution_count": 47,
     "metadata": {},
     "output_type": "execute_result"
    }
   ],
   "source": [
    "df.head()"
   ]
  },
  {
   "cell_type": "code",
   "execution_count": 48,
   "metadata": {},
   "outputs": [],
   "source": [
    "pos_tweets = 0\n",
    "neu_tweets = 0\n",
    "neg_tweets = 0\n",
    "\n",
    "for sa in df['SA']:\n",
    "    if sa == 1:\n",
    "        pos_tweets+=1\n",
    "    elif sa == 0:\n",
    "        neu_tweets+=1\n",
    "    else:\n",
    "        neg_tweets+=1"
   ]
  },
  {
   "cell_type": "code",
   "execution_count": 49,
   "metadata": {},
   "outputs": [],
   "source": [
    "percent_pos = pos_tweets*100/len(df['tweet'])\n",
    "percent_neu = neu_tweets*100/len(df['tweet'])\n",
    "percent_neg = neg_tweets*100/len(df['tweet'])"
   ]
  },
  {
   "cell_type": "code",
   "execution_count": 50,
   "metadata": {},
   "outputs": [
    {
     "data": {
      "image/png": "[encoded data removed]",
      "text/plain": [
       "<Figure size 432x288 with 1 Axes>"
      ]
     },
     "metadata": {},
     "output_type": "display_data"
    }
   ],
   "source": [
    "#Menampilkan diagram pie\n",
    "showPieChart(positive=percent_pos,neutral=percent_neu,negative=percent_neg)"
   ]
  },
  {
   "cell_type": "code",
   "execution_count": 51,
   "metadata": {},
   "outputs": [],
   "source": [
    "save = df.to_csv(\"tweet-cnn-senti.csv\")"
   ]
  },
  {
   "cell_type": "code",
   "execution_count": 52,
   "metadata": {},
   "outputs": [],
   "source": [
    "df = df[['tweet','SA']]"
   ]
  },
  {
   "cell_type": "code",
   "execution_count": 53,
   "metadata": {},
   "outputs": [
    {
     "data": {
      "text/plain": [
       "996"
      ]
     },
     "execution_count": 53,
     "metadata": {},
     "output_type": "execute_result"
    }
   ],
   "source": [
    "len(df)"
   ]
  },
  {
   "cell_type": "code",
   "execution_count": 54,
   "metadata": {},
   "outputs": [],
   "source": [
    "train_data = df[0:800].values"
   ]
  },
  {
   "cell_type": "code",
   "execution_count": 55,
   "metadata": {},
   "outputs": [
    {
     "data": {
      "text/plain": [
       "array([['men and women with the highest levels of optimism had an to longer life span on average than those who prac',\n",
       "        -1],\n",
       "       ['gop presidential candidate joe walsh says he regrets calling president obama a muslim i engaged in this hateful p',\n",
       "        -1],\n",
       "       ['tropical storm dorian has intensified in the atlantic ocean whipping mph winds and could become a hurricane',\n",
       "        0],\n",
       "       ...,\n",
       "       ['the trump administration has announced plans that could hold undocumented families detained together indefinitely',\n",
       "        0],\n",
       "       ['what do you want to know about the economy as recession fears loom ask a question here and one of cnn reporters',\n",
       "        0],\n",
       "       ['larry king is seeking to end his marriage to his seventh wife',\n",
       "        0]], dtype=object)"
      ]
     },
     "execution_count": 55,
     "metadata": {},
     "output_type": "execute_result"
    }
   ],
   "source": [
    "train_data"
   ]
  },
  {
   "cell_type": "code",
   "execution_count": 56,
   "metadata": {},
   "outputs": [],
   "source": [
    "test_data = df[801:996].values"
   ]
  },
  {
   "cell_type": "code",
   "execution_count": 57,
   "metadata": {},
   "outputs": [
    {
     "data": {
      "text/plain": [
       "array([['no instagram is not using your photos against you', 0],\n",
       "       ['former white house press secretary sean spicer is joining the cast of abcs dancing with the stars',\n",
       "        0],\n",
       "       ['breathtaking new video provided exclusively to cnn shows coral from the atlantic ocean spawning in a laboratory env',\n",
       "        1],\n",
       "       ['more than two dozen people have been arrested over threats to commit mass shootings since people were killed in',\n",
       "        1],\n",
       "       ['from high fashion to the high life americas first big name fashion designer halston was ahead of his time hals',\n",
       "        1],\n",
       "       ['a man was mauled to death by his own captive lions as he attempted to fix a broken fence in the enclosure at a game',\n",
       "        0],\n",
       "       ['environmental activists warn that if the amazon reaches a point of no return the rainforest could become a dry sav',\n",
       "        -1],\n",
       "       ['a sustained effort from nra officials republican lawmakers and conservative allies helped cement president trumps',\n",
       "        0],\n",
       "       ['a young rape survivor whod been accused of inducing an abortion and previously sentenced to years in prison was',\n",
       "        -1],\n",
       "       ['venezuela boasts the largest oil reserves in the world but gold is increasingly its lifeblood cnn tracked the path from venez',\n",
       "        0],\n",
       "       ['san francisco international airport is adding plastic water bottles to its list of restricted food service items as',\n",
       "        0],\n",
       "       ['army ranger capt robert yllescas never came home after he deployed to afghanistannnjulia yllescas had a photograp',\n",
       "        0],\n",
       "       ['keanu reeves and carrieanne moss will again reenter the matrix starring in a third sequel to the science f',\n",
       "        0],\n",
       "       ['us customs and border protection will not vaccinate migrants even though three children who had been in us custody',\n",
       "        0],\n",
       "       ['change the standards of gun ownershipnn2 halve the rate of gun deaths in yearsnn3 accountability for the gu',\n",
       "        0],\n",
       "       ['an umbrella a bauhinia flower a bleeding eye theyve become symbols of the hong kong protests and now a numb',\n",
       "        -1],\n",
       "       ['to restore americas faith in the aviation safety and regulation system we must ensure that every provision of the',\n",
       "        0],\n",
       "       ['a week before yearold emma hernandez was mauled to death by three pit bulls in detroit her father got into an a',\n",
       "        0],\n",
       "       ['panthers and bobcats in florida have been seen falling down and struggling to use their back legs and officials ha',\n",
       "        -1],\n",
       "       ['a detained immigrant says she needs to breastfeed her daughter ice responded with a lactation exam',\n",
       "        0],\n",
       "       ['almost twothirds of americans say current economic conditions are good but thats down since may its the',\n",
       "        1],\n",
       "       ['more than two dozen people have been arrested over threats to commit mass shootings since people were killed in',\n",
       "        1],\n",
       "       ['venice has fined an architect for constructing a touristunfriendly bridge',\n",
       "        0],\n",
       "       ['is this the end of spiderman as we know him', 0],\n",
       "       ['florida officials are investigating why panthers are seen stumbling and falling down',\n",
       "        -1],\n",
       "       ['greenland insists its not for sale despite president donald trump musing about buying it but just how much could',\n",
       "        1],\n",
       "       ['are smartphones holding back tenniss next generation', 0],\n",
       "       ['meet the real brains behind boris johnsons brexit plan analysis by',\n",
       "        -1],\n",
       "       ['high winds in stapleton colorado sent dozens of air mattresses rolling through a field like tumbleweeds',\n",
       "        1],\n",
       "       ['scientists bid farewell to okj the first icelandic glacier lost to climate change with a monument that featu',\n",
       "        1],\n",
       "       ['an umbrella a bauhinia flower a bleeding eye theyve become symbols of the hong kong protests and now a numb',\n",
       "        -1],\n",
       "       ['us tariffs on china are estimated to cost the average us household per year a jpmorgan chase report says tha',\n",
       "        -1],\n",
       "       ['fast food chains are beefing about who has the best chicken sandwich',\n",
       "        1],\n",
       "       ['last week gravitational wave detectors in italy and the us called ligo and virgo detected telltale ripples in sp',\n",
       "        0],\n",
       "       ['just having golf at howard university i think that will be huge just in terms of the opportunities it can creat',\n",
       "        1],\n",
       "       ['united states secretary of state mike pompeo has warned against ending an arms embargo on iran likening every day',\n",
       "        0],\n",
       "       ['clinton slammed trumps false claim that google manipulated millions of votes for clinton in the election say',\n",
       "        -1],\n",
       "       ['a detained immigrant says she needs to breastfeed her daughter ice responded with a lactation exam',\n",
       "        0],\n",
       "       ['top business headlinesnn trump no immediate plans for payroll tax cutn us markets slip as dow ends winning stre',\n",
       "        1],\n",
       "       ['democratic presidential candidate elizabeth warren found herself taking selfies with her doppelganger during a rall',\n",
       "        0],\n",
       "       ['san francisco international airport is adding plastic water bottles to its list of restricted food service items as',\n",
       "        0],\n",
       "       ['as two teens watched tv at home late one night they heard someone in the other room opening the refrigerator and e',\n",
       "        -1],\n",
       "       ['built in by a belgian millionaire the baron empain palace in egypt is only months away from reopening after a',\n",
       "        0],\n",
       "       ['panthers and bobcats in florida have been seen falling down and struggling to use their back legs and officials ha',\n",
       "        -1],\n",
       "       ['a young rape survivor whod been accused of inducing an abortion and previously sentenced to years in prison was',\n",
       "        -1],\n",
       "       ['this race car from the s eected to sell for up to million was supposed to be the most eensive porsche',\n",
       "        1],\n",
       "       ['the us department of agriculture is shrinking payments offered to employees who applied for buyouts rather than rel',\n",
       "        0],\n",
       "       ['former white house communications director anthony scaramucci who recently withdrew his support for president trum',\n",
       "        1],\n",
       "       ['keanu reeves and carrieanne moss will again reenter the matrix starring in a third sequel to the science f',\n",
       "        0],\n",
       "       ['rust belt voters sharply divided on trumps economynncnns martin savidge travels to scranton pennsylvania to spe',\n",
       "        -1],\n",
       "       ['property owners in the wellknown denver neighborhood of stapleton were asked to vote this summer on whether to cha',\n",
       "        0],\n",
       "       ['president trump says the administration is looking at possible tax cuts but reiterated that the us economy is stil',\n",
       "        0],\n",
       "       ['this is a president who is not accepting responsibility for a crisis in fact hes contributing to it and thats',\n",
       "        0],\n",
       "       ['let me say this to the president i am a proud jewish person and i have no concerns about voting democratic and',\n",
       "        1],\n",
       "       ['if the economy stays as strong as it is today over the next year and a half trump is going to win a big reelectio',\n",
       "        1],\n",
       "       ['president trump went from mouthing off about about standing up to the nra to mouthing one of its',\n",
       "        0],\n",
       "       ['there have been two confirmed cases of neurological damage in a panther and bobcat in florida as of this month acc',\n",
       "        1],\n",
       "       ['democratic presidential candidate cory booker says president trumps postponement of his trip to denmark after th',\n",
       "        0],\n",
       "       ['maybe president trump could use a sleepless night or two less executive time fewer hours in front o',\n",
       "        -1],\n",
       "       ['less than two weeks before his scheduled trip to denmark president trump announced on twitter that he has postpone',\n",
       "        -1],\n",
       "       ['cnn martin savidge visits scranton pennsylvania and finds that there a divide over the success of trump eco',\n",
       "        1],\n",
       "       ['if the economy stays as strong as it is today over the next year and a half trump is going to win a big reelectio',\n",
       "        1],\n",
       "       ['youve never heard this president apologize for one single evil thing he has said says cnn political commentator',\n",
       "        -1],\n",
       "       ['democratic presidential candidate elizabeth warren found herself taking selfies with her doppelganger during a rall',\n",
       "        0],\n",
       "       ['president trumps recession fears are being eed reports cnns kate bolduannntrump said that the administratio',\n",
       "        0],\n",
       "       ['handshake ceo garrett lord talks with about how the company connects students with prospective empl',\n",
       "        -1],\n",
       "       ['sen joe manchin who has been working with the white house on background checks says he is surprised by reports o',\n",
       "        1],\n",
       "       ['tonight on theridiculist president trump just awarded himself another fictitious awardnneven the fictitious',\n",
       "        0],\n",
       "       ['if we americans came to study how this country started we wouldnt be talking about kicking immigrants out says',\n",
       "        0],\n",
       "       ['there are a lot of candidates that can beat donald trump in this race says presidential candidate juli castro',\n",
       "        0],\n",
       "       ['dayton mayor nan whaley responds to president trumps reversal on background checks saying she is not surprised b',\n",
       "        -1],\n",
       "       ['president trump went from mouthing off about about standing up to the nra to mouthing one of its',\n",
       "        0],\n",
       "       ['pres obama was aware of the threat that russia constituted to this country i do not get the impression that this',\n",
       "        1],\n",
       "       ['this is in the end a national security threat that united states cannot simply stand back and pretend is not there',\n",
       "        0],\n",
       "       ['the excitement around the recent cast reunion of boy meets world has some nowgrownup adults reminiscing on thei',\n",
       "        0],\n",
       "       ['this president has not earned the support of an esteemed organization that has spent years fighting for equalit',\n",
       "        -1],\n",
       "       ['president trump frequently publicly supported new background check legislation shortly after two backtoback mass',\n",
       "        1],\n",
       "       ['a kinkajou an etic cousin of the raccoon attacked a man in florida after he and his girlfriend left watermelon',\n",
       "        0],\n",
       "       ['army ranger capt robert yllescas never came home after he deployed to afghanistannnjulia yllescas had a photograp',\n",
       "        0],\n",
       "       ['less than two weeks before his scheduled trip to denmark president trump announced on twitter that he has postpone',\n",
       "        -1],\n",
       "       ['a federal program recommends people keep their homes between and degrees',\n",
       "        0],\n",
       "       ['president trumps administration is eected to announce a new regulation that would allow for the detention of mig',\n",
       "        1],\n",
       "       ['handshake ceo garrett lord talks with about how the company connects students with prospective empl',\n",
       "        -1],\n",
       "       ['built in by a belgian millionaire the baron empain palace in egypt is only months away from reopening after a',\n",
       "        0],\n",
       "       ['biden is the frontrunner and still the favorite to be the nominee because the democratic party isnt the libe',\n",
       "        1],\n",
       "       ['fast food chains are beefing about who has the best chicken sandwich',\n",
       "        1],\n",
       "       ['walmart is suing tesla for breach of contract after its solar panels allegedly ignited fires on the roofs of walmar',\n",
       "        -1],\n",
       "       ['neighbors are mourning a yearold girl who was mauled to death by three pit bulls',\n",
       "        0],\n",
       "       ['the parents of a middle school student are suing a houstonarea school district and school officials in federal cou',\n",
       "        0],\n",
       "       ['this race car from the s eected to sell for up to million was supposed to be the most eensive porsche',\n",
       "        1],\n",
       "       ['a former ohio trial court judge and politician pleaded guilty to murder in the death of his exwife',\n",
       "        -1],\n",
       "       ['lawmakers want to lower drug prices their plan would end up harming patients by randall rutta for p',\n",
       "        0],\n",
       "       ['venezuela boasts the largest oil reserves in the world but gold is increasingly its lifeblood in the capital of c',\n",
       "        0],\n",
       "       ['president trump is eected to select deputy secretary of state john sullivan to replace jon huntsman as us ambassa',\n",
       "        0],\n",
       "       ['it was ultimately a means of taking on police brutality and systemic racial injustice but former nfl quarterback c',\n",
       "        -1],\n",
       "       ['former vatican treasurer george pell will remain in prison after an australian appeals court rejected his lawyers',\n",
       "        0],\n",
       "       ['at least cities and local governments in texas are working to recover from a seemingly coordinated ransomware at',\n",
       "        -1],\n",
       "       ['president trump criticized jewish americans who vote for democrats saying it shows either a total lack of knowled',\n",
       "        0],\n",
       "       ['keanu reeves and carrieanne moss will again reenter the matrix starring in a third sequel to the science f',\n",
       "        0],\n",
       "       ['planned parenthood and other reproductive health providers were given an impossible choice writes jill filipovic',\n",
       "        -1],\n",
       "       ['rep gerry connolly on president trump considering a payroll tax cut if were going to look at a tax cut a the',\n",
       "        1],\n",
       "       ['rep ted deutch on pres trump criticism of jewish americans who vote for democrats what the president is doing',\n",
       "        0],\n",
       "       ['twitter recently took down a covert network of nearly accounts it says are tied to the chinese government ma',\n",
       "        -1],\n",
       "       ['rep gerry connolly condemns president trump remarks criticizing jewish americans who vote for democrats to sug',\n",
       "        1],\n",
       "       ['president trump has no courage at all says democratic presidential candidate sen kirsten gillibrand hes unwi',\n",
       "        0],\n",
       "       ['playboy magazine white house correspondent brian karem is going to court to fight for the immediate restoration of',\n",
       "        0],\n",
       "       ['bidens lead confirms as a battle for americas soul by joe lockhart for',\n",
       "        0],\n",
       "       ['farmers are often painted as an enemy in the climate change war but thanks to new technology they are uniquely po',\n",
       "        1],\n",
       "       ['this bear broke into a house and raided the fridge as terrified teens hid in the next room on the menu taco meat',\n",
       "        0],\n",
       "       ['a feisty fruitloving kinkajou fought its way into a florida home and bit a mans feet in july wildlife officials',\n",
       "        0],\n",
       "       ['the usda is shrinking payments offered to employees who applied for buyouts rather than relocate to the greater kan',\n",
       "        1],\n",
       "       ['its kevin mccarthys mistake its not minenngop rep steve king cast blame on house gop leader kevin mccarthy',\n",
       "        0],\n",
       "       ['mars may seem cold and inhospitable today but a new study suggests that the red planet was once warm enough to hos',\n",
       "        1],\n",
       "       ['netflix could face trouble ahead heres why', -1],\n",
       "       ['the trump administration has formally approved a major billion arms sale to taiwan involving new f16cd figh',\n",
       "        1],\n",
       "       ['katharine gorka is leaving her post as press secretary for us customs and border protection after only two months o',\n",
       "        0],\n",
       "       ['if taking time to enjoy nature in michigans state parks wasnt relaxing enough you can now add a little bob ross',\n",
       "        1],\n",
       "       ['president trump mocked rashida tlaibs grief over her decision not to visit her grandmother in the west bank after',\n",
       "        -1],\n",
       "       ['i think the myth of this trump economy is actually wearing off says presidential candidate john delaneynnth',\n",
       "        0],\n",
       "       ['us tariffs on china are estimated to cost the average us household per year a jpmorgan chase report says tha',\n",
       "        -1],\n",
       "       ['i did what was right and it was really hard sen kirsten gillibrand says of calling for al franken senate resi',\n",
       "        -1],\n",
       "       ['just having golf at howard university i think that will be huge just in terms of the opportunities it can creat',\n",
       "        1],\n",
       "       ['the dow snapped a threeday winning streak and finished points lower',\n",
       "        1],\n",
       "       ['us stocks finished lower on tuesday with the dow and the sampp snapping a threeday winning streak the dow closed',\n",
       "        1],\n",
       "       ['the trump administration is considering a payroll tax cut while also pushing back against recession fears',\n",
       "        0],\n",
       "       ['a gender discrimination lawsuit filed by members of the us womens soccer team against the us soccer federation has',\n",
       "        0],\n",
       "       ['democratic presidential candidates will participate in cnns climate crisis town hall on september nn bidenn',\n",
       "        0],\n",
       "       ['the medal honors service members who participate in a military operation that is deemed to be a significant activi',\n",
       "        1],\n",
       "       ['president trump has eressed his support for reinstating russia into the g7 days before the group of leading indus',\n",
       "        0],\n",
       "       ['thousands of american troops sent to the usmexico border as part of the trump administrations effort to contain t',\n",
       "        0],\n",
       "       ['supermodel ashley graham is calling nonsense on the stretchmarkless prenatal belly with an upclose and personal',\n",
       "        0],\n",
       "       ['president trump frequently publicly supported new background check legislation shortly after two backtoback mass',\n",
       "        1],\n",
       "       ['facebook is introducing a tool to help users see and manage the data that apps and websites collect on them and sha',\n",
       "        0],\n",
       "       ['president trump and his advisers insist their trade war with china wont hurt american consumers but analysts say',\n",
       "        0],\n",
       "       ['fast food chains are beefing about who has the best chicken sandwich',\n",
       "        1],\n",
       "       ['a yearold girl was mauled to death by dogs while playing in a detroit neighborhood police say the girl was in',\n",
       "        0],\n",
       "       ['two members of the proud boys a farright extremist organization have been convicted on multiple charges for assa',\n",
       "        1],\n",
       "       ['last week gravitational wave detectors in italy and the us called ligo and virgo detected telltale ripples in sp',\n",
       "        0],\n",
       "       ['a young rape survivor whod been accused of inducing an abortion and previously sentenced to years in prison was',\n",
       "        -1],\n",
       "       ['nasas europa clipper mission is entering its final design stage before construction and testing of the spacecraft',\n",
       "        0],\n",
       "       ['this mom went to the hospital thinking she had kidney stones but ended up going into labor with triplets',\n",
       "        0],\n",
       "       ['the good news a weekend of phish concerts will go on as scheduled at a soccer stadium outside denvernnthe bad th',\n",
       "        1],\n",
       "       ['the future service dogs have toured zoos subways and crowded fairs to acclimate them to the unfamiliar lights and',\n",
       "        1],\n",
       "       ['elon musk ceo of spacex and tesla tweeted that a big rock is going to hit earth and that we currently have no',\n",
       "        0],\n",
       "       ['clinton slammed trumps false claim that google manipulated millions of votes for clinton in the election say',\n",
       "        -1],\n",
       "       ['mercedesbenz is using location sensors to track and repossess vehicles in the united kingdom when drivers fall beh',\n",
       "        0],\n",
       "       ['oh my god its literally alivenna wisconsin woman found a live frog in the organic lettuce she purchased from a',\n",
       "        1],\n",
       "       ['yes hes fired but the fight is not overnnthe officer accused of killing eric garner more than five years ago w',\n",
       "        1],\n",
       "       ['san francisco international airport is adding plastic water bottles to its list of restricted food service items as',\n",
       "        0],\n",
       "       ['a manhunt is underway for a suspect who apparently sought out a retired california state university fullerton admin',\n",
       "        1],\n",
       "       ['from now on phoenix officers must fill out a form when an officer points a gun and the incident will be reviewed',\n",
       "        0],\n",
       "       ['this race car from the s eected to sell for up to million was supposed to be the most eensive porsche',\n",
       "        1],\n",
       "       ['sec of state mike pompeo acknowledged there are places where isis is more powerful today than they were three or',\n",
       "        1],\n",
       "       ['last week gravitational wave detectors in italy and the us called ligo and virgo detected telltale ripples in sp',\n",
       "        0],\n",
       "       ['high winds in stapleton colorado sent dozens of air mattresses rolling through a field like tumbleweeds',\n",
       "        1],\n",
       "       ['former nascar driver richard childress has resigned from the national rifle associations board the latest member',\n",
       "        1],\n",
       "       ['american teenager amanda anisimova has withdrawn from the us open after the sudden death of her father and coach ko',\n",
       "        0],\n",
       "       ['more women should be assessed for harmful mutations in the brca1 and brca2 genes that can increase risk of certain',\n",
       "        1],\n",
       "       ['when security personnel attempted to confront the man who reportedly eed himself to a housekeeper he tried to',\n",
       "        0],\n",
       "       ['president trump is interested in buying greenland but whyn', 1],\n",
       "       ['an international panel created after two boeing max crashes is eected to recommend the faa change the way it',\n",
       "        1],\n",
       "       ['indias chandrayaan2 spacecraft entered lunar orbit on tuesday in a small but important step on its journey toward',\n",
       "        1],\n",
       "       ['negative colleagues can be a real drag in the office not only can they hurt productivity and morale their attitud',\n",
       "        -1],\n",
       "       ['the study concluded that vaping temporarily impacts blood vessel function in healthy people',\n",
       "        1],\n",
       "       ['a man who took a bus and its passengers hostage on a bridge in the brazilian city of rio de janeiro was shot dea',\n",
       "        0],\n",
       "       ['breaking italys prime minister giuseppe conte says he will resign paving the way for elections demanded by farright leader ma',\n",
       "        0],\n",
       "       ['this man broke a cycling speed record hurtling down a runway at over miles per hour on a custommade bike in w',\n",
       "        -1],\n",
       "       ['yearold maddy is only the th girl to ever play in the little league world series and only the sixth girl t',\n",
       "        -1],\n",
       "       ['white house officials at one point in recent days were discussing the possibility of a potential payroll tax cut to',\n",
       "        0],\n",
       "       ['elizabeth warrens criminal justice plan would abolish the death penalty and end cash bail',\n",
       "        -1],\n",
       "       ['dicks sporting goods is testing if it should stop selling guns',\n",
       "        0],\n",
       "       ['posting an instagram photo can be stressful for people who care about likes but in a move to reduce some of that p',\n",
       "        0],\n",
       "       ['the cma awards are switching things up this year replacing host brad paisley with dolly parton and reba mcentire',\n",
       "        -1],\n",
       "       ['todays top business headlinesnn white house downplays recession fearsnn us eands huawei blacklistnn southwes',\n",
       "        1],\n",
       "       ['researchers have found dust from an eloded star or supernova in snow from antarctica and it could be million',\n",
       "        0],\n",
       "       ['a young rape survivor whod been accused of inducing an abortion and previously sentenced to years in prison was',\n",
       "        -1],\n",
       "       ['in the oceans degrading plastic binds with the manmade chemical pollutants all that toxicity ends up in the digestive sy',\n",
       "        0],\n",
       "       ['joe biden has eanded his edge over the democratic field in a new cnn poll with of democratic and democratic',\n",
       "        1],\n",
       "       ['a vietnamese boy who was put in a suitcase and smuggled to the uk has written a letter giving thanks to britain f',\n",
       "        1],\n",
       "       ['two children died on the same day in two different states after being left in hot cars',\n",
       "        1],\n",
       "       ['kroger is now selling vegan eggs the grocer is stocking just egg made with mung beans in about locations',\n",
       "        0],\n",
       "       ['two members of the proud boys a farright extremist organization have been convicted on multiple charges for assa',\n",
       "        1],\n",
       "       ['after downplaying the issue for most of the past two decades democrats in congress and on the presidential campaig',\n",
       "        1],\n",
       "       ['a gameworn basketball jersey that former president obama wore in high school was auctioned off for ho',\n",
       "        1],\n",
       "       ['a high school student wore a tuxedo for her senior portrait the photo wasnt published in her yearbook',\n",
       "        1],\n",
       "       ['a monthold boy was found on friday in a vehicle in booneville mississippi another child died the same day aft',\n",
       "        0],\n",
       "       ['yearold maddy is only the th girl to ever play in the little league world series and only the sixth girl t',\n",
       "        -1],\n",
       "       ['joe biden has eanded his edge over the democratic field in a new cnn poll with of democratic and democratic',\n",
       "        1],\n",
       "       ['tempted to bring a little bit of paradise home from holiday think again',\n",
       "        -1],\n",
       "       ['my message for people who are hearing impaired is to not be discouraged if you try hard you can do anythingnna',\n",
       "        -1],\n",
       "       ['joe biden is airing the first tv ad of his presidential campaign in iowa tuesday as part of a sixfigure telev',\n",
       "        1],\n",
       "       ['two children died on the same day in two different states after being left in hot cars',\n",
       "        1],\n",
       "       ['the el paso shooting suspect is on suicide watch', -1],\n",
       "       ['a vietnamese boy who was put in a suitcase and smuggled to the uk has written a letter giving thanks to britain f',\n",
       "        1],\n",
       "       ['researchers have found dust from an eloded star or supernova in snow from antarctica and it could be million',\n",
       "        0]], dtype=object)"
      ]
     },
     "execution_count": 57,
     "metadata": {},
     "output_type": "execute_result"
    }
   ],
   "source": [
    "test_data"
   ]
  },
  {
   "cell_type": "code",
   "execution_count": 58,
   "metadata": {},
   "outputs": [],
   "source": [
    "from textblob.classifiers import NaiveBayesClassifier"
   ]
  },
  {
   "cell_type": "code",
   "execution_count": 59,
   "metadata": {},
   "outputs": [],
   "source": [
    "classifier = NaiveBayesClassifier(train_data)"
   ]
  },
  {
   "cell_type": "code",
   "execution_count": 60,
   "metadata": {},
   "outputs": [
    {
     "data": {
      "text/plain": [
       "0.6461538461538462"
      ]
     },
     "execution_count": 60,
     "metadata": {},
     "output_type": "execute_result"
    }
   ],
   "source": [
    "classifier.accuracy(test_data)"
   ]
  },
  {
   "cell_type": "code",
   "execution_count": 61,
   "metadata": {},
   "outputs": [
    {
     "name": "stdout",
     "output_type": "stream",
     "text": [
      "Most Informative Features\n",
      "          contains(down) = True               -1 : 1      =     22.7 : 1.0\n",
      "         contains(least) = True               -1 : 1      =     16.8 : 1.0\n",
      "        contains(amazon) = True               -1 : 1      =     14.3 : 1.0\n"
     ]
    }
   ],
   "source": [
    "classifier.show_informative_features(3)"
   ]
  }
 ],
 "metadata": {
  "kernelspec": {
   "display_name": "Python 3",
   "language": "python",
   "name": "python3"
  },
  "language_info": {
   "codemirror_mode": {
    "name": "ipython",
    "version": 3
   },
   "file_extension": ".py",
   "mimetype": "text/x-python",
   "name": "python",
   "nbconvert_exporter": "python",
   "pygments_lexer": "ipython3",
   "version": "3.7.3"
  }
 },
 "nbformat": 4,
 "nbformat_minor": 2
}
